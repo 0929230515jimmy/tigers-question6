{
 "cells": [
  {
   "cell_type": "code",
   "execution_count": 1,
   "id": "004b9256-e9fa-4d47-be71-d178736b73c8",
   "metadata": {
    "tags": []
   },
   "outputs": [],
   "source": [
    "import pandas as pd\n",
    "import matplotlib.pyplot as plt\n",
    "import numpy as np\n",
    "from matplotlib.gridspec import GridSpec\n",
    "\n",
    "df = pd.read_csv('AnalyticsQuestionnairePitchData.csv')"
   ]
  },
  {
   "cell_type": "code",
   "execution_count": 2,
   "id": "5fa4fad2-4618-4d74-a2c7-be8eab03319d",
   "metadata": {},
   "outputs": [],
   "source": [
    "metrics = ['ReleaseSpinAxis', 'ReleaseSpeed', 'ReleaseSpinRate', \n",
    "           'TrajectoryHorizontalBreak', 'TrajectoryVerticalBreak', \n",
    "           'TrajectoryHorizontalApproachAngle', 'TrajectoryVerticalApproachAngle']"
   ]
  },
  {
   "cell_type": "code",
   "execution_count": 3,
   "id": "83154e3e-3a77-4b50-9795-c14c54e8dada",
   "metadata": {
    "tags": []
   },
   "outputs": [],
   "source": [
    "def create_radar_chart(ax, data, title, color1, color2, metrics, max_values):\n",
    "    num_vars = len(metrics)\n",
    "    angles = np.linspace(0, 2 * np.pi, num_vars, endpoint=False).tolist()\n",
    "    angles += angles[:1]  \n",
    "    \n",
    "    values1 = [data[metric][0] / max_values[metric] * 100 if max_values[metric] != 0 else 0 for metric in metrics]\n",
    "    values1 += values1[:1]\n",
    "    ax.fill(angles, values1, color=color1, alpha=0.25)\n",
    "    ax.plot(angles, values1, color=color1, linewidth=2, label='GamePk 1')\n",
    "    \n",
    "    values2 = [data[metric][1] / max_values[metric] * 100 if max_values[metric] != 0 else 0 for metric in metrics]\n",
    "    values2 += values2[:1]\n",
    "    ax.fill(angles, values2, color=color2, alpha=0.25)\n",
    "    ax.plot(angles, values2, color=color2, linewidth=2, label='GamePk 2')\n",
    "    \n",
    "    ax.set_xticks(angles[:-1])\n",
    "    ax.set_xticklabels([f\"{m}\\n(Max: {max_values[m]:.2f})\" for m in metrics], fontsize=8)\n",
    "    ax.set_yticklabels([])\n",
    "    \n",
    "    ax.set_title(title, fontsize=10)\n",
    "    ax.legend(loc='upper right', bbox_to_anchor=(0.1, 0.1), fontsize=8)"
   ]
  },
  {
   "cell_type": "code",
   "execution_count": 4,
   "id": "11c0bfc3-c0af-4053-8a4c-4a31ed6ce39a",
   "metadata": {},
   "outputs": [],
   "source": [
    "def process_data(df, metrics, pitcher_id, pitch_type):\n",
    "    game1_data = df[(df['GamePk'] == 1) & (df['PitcherId'] == pitcher_id) & (df['PitchType'] == pitch_type)]\n",
    "    game2_data = df[(df['GamePk'] == 2) & (df['PitcherId'] == pitcher_id) & (df['PitchType'] == pitch_type)]\n",
    "    \n",
    "    data = {metric: [abs(game1_data[metric].mean()), abs(game2_data[metric].mean())] for metric in metrics}\n",
    "    \n",
    "    if all(np.isnan(data[metric]).all() for metric in metrics):\n",
    "        return None\n",
    "    \n",
    "    for metric in metrics:\n",
    "        data[metric] = [0 if np.isnan(x) else x for x in data[metric]]\n",
    "    \n",
    "    return data"
   ]
  },
  {
   "cell_type": "code",
   "execution_count": null,
   "id": "354668e1-9bc3-48ec-b3be-0ec582813bde",
   "metadata": {
    "tags": []
   },
   "outputs": [],
   "source": [
    "max_values = {metric: df[metric].abs().max() for metric in metrics}\n",
    "\n",
    "pitcher_pitch_combinations = df.groupby(['PitcherId', 'PitchType']).size().reset_index()[['PitcherId', 'PitchType']]\n",
    "\n",
    "valid_combinations = []\n",
    "for _, row in pitcher_pitch_combinations.iterrows():\n",
    "    pitcher_id = row['PitcherId']\n",
    "    pitch_type = row['PitchType']\n",
    "    data = process_data(df, metrics, pitcher_id, pitch_type)\n",
    "    if data is not None:\n",
    "        valid_combinations.append((pitcher_id, pitch_type, data))\n",
    "\n",
    "n_plots = len(valid_combinations)\n",
    "n_cols = 3  \n",
    "n_rows = (n_plots - 1) // n_cols + 1\n",
    "\n",
    "fig = plt.figure(figsize=(20, 7 * n_rows))\n",
    "\n",
    "for i, (pitcher_id, pitch_type, data) in enumerate(valid_combinations):\n",
    "    ax = fig.add_subplot(n_rows, n_cols, i+1, projection='polar')\n",
    "    title = f\"Pitcher {pitcher_id} - {pitch_type}\"\n",
    "    create_radar_chart(ax, data, title, 'blue', 'red', metrics, max_values)\n",
    "\n",
    "plt.tight_layout()\n",
    "plt.savefig(\"all_radar_charts_with_max.png\", dpi=300, bbox_inches='tight')\n",
    "plt.close(fig)"
   ]
  }
 ],
 "metadata": {
  "kernelspec": {
   "display_name": "Python 3 (ipykernel)",
   "language": "python",
   "name": "python3"
  },
  "language_info": {
   "codemirror_mode": {
    "name": "ipython",
    "version": 3
   },
   "file_extension": ".py",
   "mimetype": "text/x-python",
   "name": "python",
   "nbconvert_exporter": "python",
   "pygments_lexer": "ipython3",
   "version": "3.8.18"
  }
 },
 "nbformat": 4,
 "nbformat_minor": 5
}
